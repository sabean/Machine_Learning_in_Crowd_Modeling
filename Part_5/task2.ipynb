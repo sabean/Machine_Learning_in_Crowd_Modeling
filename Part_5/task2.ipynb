{
 "cells": [
  {
   "cell_type": "code",
   "execution_count": 2,
   "metadata": {},
   "outputs": [],
   "source": [
    "import numpy as np\n",
    "from scipy.integrate import solve_ivp\n",
    "import matplotlib.pyplot as plt\n",
    "import matplotlib.gridspec as gridspec\n",
    "from sklearn.metrics.pairwise import euclidean_distances\n",
    "import scipy.linalg as la"
   ]
  },
  {
   "cell_type": "code",
   "execution_count": 3,
   "metadata": {},
   "outputs": [],
   "source": [
    "x0= np.loadtxt(\"linear_vectorfield_data_x0.txt\")\n",
    "x1= np.loadtxt(\"linear_vectorfield_data_x1.txt\")"
   ]
  },
  {
   "cell_type": "code",
   "execution_count": 21,
   "metadata": {
    "scrolled": true
   },
   "outputs": [],
   "source": [
    "N =1000\n",
    "delta_t =0.1\n",
    "v = x1-x0\n",
    "x0_inv = np.linalg.pinv(x0)\n",
    "A= v.T@x0_inv.T\n"
   ]
  },
  {
   "cell_type": "code",
   "execution_count": 22,
   "metadata": {},
   "outputs": [
    {
     "name": "stdout",
     "output_type": "stream",
     "text": [
      "(2, 2)\n"
     ]
    }
   ],
   "source": [
    "\n",
    "print(A.shape)"
   ]
  },
  {
   "cell_type": "code",
   "execution_count": 23,
   "metadata": {},
   "outputs": [],
   "source": [
    "def solve_2D(A, name=\"int.png\",start=[], max_time=4.0):\n",
    "    #fig, ax = plt.subplots()\n",
    "    \n",
    "    N = len(start)\n",
    "\n",
    "    #colors = plt.cm.viridis(np.linspace(0, 1, N))\n",
    "    \n",
    "    def fx(t, x_y):\n",
    "        \"\"\"Compute the time-derivative of a system.\"\"\"\n",
    "        fx = A @ x_y\n",
    "        return fx\n",
    "    \n",
    "    \n",
    "    # Solve for the trajectories\n",
    "    t = np.arange(0,100,0.1)\n",
    "    #t = np.linspace(0, max_time, 1000)\n",
    "    x_t = np.asarray([solve_ivp(fun=fx, t_span=[0, 1000], y0=val, t_eval=t) for val in start])\n",
    "    \n",
    "    \"\"\"\n",
    "    for i in range(N):\n",
    "        x = x_t[i].y[0, :]\n",
    "        y = x_t[i].y[1, :]\n",
    "        lines = ax.plot(x, y, '-', color=colors[i])\n",
    "        plt.setp(lines, linewidth=2)\n",
    "\n",
    "    title = r'$x0 = {0}$'.format(start)\n",
    "    plt.title(title)\n",
    "    ax.set_xlabel(\"X Axis\")\n",
    "    ax.set_ylabel(\"Y Axis\")\n",
    "    #plt.savefig(name, format=\"png\")\n",
    "    plt.show()\n",
    "    \"\"\"\n",
    "    return t, x_t\n"
   ]
  },
  {
   "cell_type": "code",
   "execution_count": 24,
   "metadata": {},
   "outputs": [],
   "source": [
    "t, x_t = solve_2D(A,start=x0)\n"
   ]
  },
  {
   "cell_type": "code",
   "execution_count": 27,
   "metadata": {},
   "outputs": [
    {
     "name": "stdout",
     "output_type": "stream",
     "text": [
      "0.7151137074970189\n"
     ]
    }
   ],
   "source": [
    "mse = []\n",
    "edu_dist = 0\n",
    "for j in range(N):\n",
    "    x_esti = x_t[j].y.T\n",
    "    eu_dist =0\n",
    "    for i in range(N):\n",
    "        eu_dist += np.sqrt((x_esti[i][0]-x1[i][0])**2 + (x_esti[i][1]-x1[i][1])**2)\n",
    "    mse.append(eu_dist/N)\n",
    "print(min(mse))"
   ]
  },
  {
   "cell_type": "code",
   "execution_count": 28,
   "metadata": {},
   "outputs": [
    {
     "name": "stdout",
     "output_type": "stream",
     "text": [
      "0.291408150115666\n"
     ]
    }
   ],
   "source": [
    "mse = []\n",
    "for j in range(N):\n",
    "    x_esti = x_t[j].y.T\n",
    "    mse.append((np.square( x_esti- x1)).mean(axis=None))\n",
    "print(min(mse))"
   ]
  },
  {
   "cell_type": "code",
   "execution_count": 10,
   "metadata": {},
   "outputs": [
    {
     "name": "stdout",
     "output_type": "stream",
     "text": [
      "(2, 1000)\n"
     ]
    }
   ],
   "source": [
    "print(x_t[0].y.shape)"
   ]
  },
  {
   "cell_type": "code",
   "execution_count": 11,
   "metadata": {},
   "outputs": [],
   "source": [
    "def solve_2D_3(A, name=\"int.png\",start=[], max_time=4.0):\n",
    "    fig, ax = plt.subplots()\n",
    "    \n",
    "    N = len(start)\n",
    "\n",
    "    colors = plt.cm.viridis(np.linspace(0, 1, N))\n",
    "    \n",
    "    def fx(t, x_y):\n",
    "        \"\"\"Compute the time-derivative of a system.\"\"\"\n",
    "        fx = A @ x_y\n",
    "        return fx\n",
    "    \n",
    "    \n",
    "    # Solve for the trajectories\n",
    "    #t = np.arange(0,100,0.1)\n",
    "    t = np.linspace(0, max_time, 1000)\n",
    "    x_t = np.asarray([solve_ivp(fun=fx, t_span=[0, 1000], y0=val, t_eval=t) for val in start])\n",
    "    \n",
    "    for i in range(N):\n",
    "        x = x_t[i].y[0, :]\n",
    "        y = x_t[i].y[1, :]\n",
    "        lines = ax.plot(x, y, '-', color=colors[i])\n",
    "        plt.setp(lines, linewidth=2)\n",
    "\n",
    "    title = r'$x0 = {0}$'.format(start)\n",
    "    plt.title(title)\n",
    "    ax.set_xlabel(\"\")\n",
    "    ax.set_ylabel(\"Y Axis\")\n",
    "    #plt.savefig(name, format=\"png\")\n",
    "    plt.show()\n",
    "    return t, x_t\n"
   ]
  },
  {
   "cell_type": "code",
   "execution_count": 12,
   "metadata": {},
   "outputs": [
    {
     "data": {
      "image/png": "[encoded data removed]",
      "text/plain": [
       "<Figure size 432x288 with 1 Axes>"
      ]
     },
     "metadata": {
      "needs_background": "light"
     },
     "output_type": "display_data"
    }
   ],
   "source": [
    "t1, x_t1 = solve_2D_3(A,name=\"task3_orbit_eq1.png\",start=[[10,10]],max_time=100.0)"
   ]
  },
  {
   "cell_type": "code",
   "execution_count": 19,
   "metadata": {},
   "outputs": [],
   "source": [
    "\n",
    "def plot_data(A,name=None ):\n",
    "    Y, X = np.mgrid[-10:10:20j, -10:10:20j]\n",
    "    U = A[0][0] * X + A[0][1] * Y\n",
    "    V = A[1][0] * X + A[1][1] * Y\n",
    "    \n",
    "    fig0, ax0 = plt.subplots()\n",
    "    ax0.set_aspect('equal', 'box') \n",
    "    ax0 = plt.gca()\n",
    "    lim = [-10,10]\n",
    "    ax0.set_xlim(lim)\n",
    "    ax0.set_ylim(lim)\n",
    "    \n",
    "    #A = np.array([[-0.25,0],[alpha,alpha]])\n",
    "    # A = np.array([[alpha,alpha],[-0.25,0]])\n",
    "    eigen = la.eig(A)[0]\n",
    "    eigen = np.around(eigen, decimals=2)\n",
    "    \n",
    "    #empty_string_label = ['']*20\n",
    "    #ax0.set_xticklabels(empty_string_label)\n",
    "    #ax0.set_yticklabels(empty_string_label)\n",
    "    #ax0.tick_params(axis=u'both', which=u'both',length=0)\n",
    "    \n",
    "    ax0.quiver(X,Y,U,V,color=\"k\", scale=None)\n",
    "    '''\n",
    "    if np.iscomplex(eigen).any():\n",
    "        c = \"r\"\n",
    "        start = [list(eigen)]\n",
    "        strm = ax0.streamplot(X,Y, U, V, color=c, start_points=start)\n",
    "        title = r'$\\alpha = {0}, \\lambda_1 ={1}, \\lambda_2 ={2}$'.format\\\n",
    "            (alpha,str(eigen[0]).replace('(','').replace(')', ''),\\\n",
    "                         str(eigen[1]).replace('(','').replace(')', ''))\n",
    "    else: \n",
    "    '''\n",
    "    c =\"b\"\n",
    "    #start = list(la.eig(A)[1])\n",
    "    start=[[1,1]]\n",
    "    strm = ax0.streamplot(X,Y, U, V, color=c, start_points=start)\n",
    "    #title = r'$\\alpha = {0}, \\lambda_1 ={1}, \\lambda_2 ={2}$'.format(alpha,str(eigen[0].real), str(eigen[1].real))\n",
    "    title = 'Trajectories'\n",
    "    ax0.title.set_text(title)\n",
    "    #strm = ax0.streamplot(X,Y, U, V, color=c, start_points=start)\n",
    "    if not name is None:\n",
    "        plt.savefig(name, format=\"png\")\n",
    "    plt.show()"
   ]
  },
  {
   "cell_type": "code",
   "execution_count": 20,
   "metadata": {},
   "outputs": [
    {
     "data": {
      "image/png": "[encoded data removed]",
      "text/plain": [
       "<Figure size 432x288 with 1 Axes>"
      ]
     },
     "metadata": {
      "needs_background": "light"
     },
     "output_type": "display_data"
    }
   ],
   "source": [
    "plot_data(A,name = 'hey.png')"
   ]
  },
  {
   "cell_type": "code",
   "execution_count": null,
   "metadata": {},
   "outputs": [],
   "source": []
  }
 ],
 "metadata": {
  "kernelspec": {
   "display_name": "Python 3",
   "language": "python",
   "name": "python3"
  },
  "language_info": {
   "codemirror_mode": {
    "name": "ipython",
    "version": 3
   },
   "file_extension": ".py",
   "mimetype": "text/x-python",
   "name": "python",
   "nbconvert_exporter": "python",
   "pygments_lexer": "ipython3",
   "version": "3.7.5"
  }
 },
 "nbformat": 4,
 "nbformat_minor": 2
}
